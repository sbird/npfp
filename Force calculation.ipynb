{
 "cells": [
  {
   "cell_type": "code",
   "execution_count": 3,
   "metadata": {},
   "outputs": [],
   "source": [
    "import numpy as np\n",
    "# Define the gravitational constant (G) in the specified units\n",
    "G = 1.0  # Solar mass * parsec^3 / year^2\n",
    "num_particles = 100  # Number of particles\n",
    "box_size = 10.0  # Size of the simulation box\n",
    "softening = 0.1  # Softening length to prevent singularities\n",
    "time_step = 0.01  # Time step for the simulation\n",
    "num_steps = 100  # Number of simulation steps"
   ]
  },
  {
   "cell_type": "code",
   "execution_count": 4,
   "metadata": {},
   "outputs": [],
   "source": [
    "# Generate random initial positions and velocities in a single 6-array\n",
    "particle_data = np.random.rand(num_particles, 6)\n",
    "# The first three elements (0-2) represent positions\n",
    "# The last three elements (3-5) represent momenta (velocities)"
   ]
  },
  {
   "cell_type": "code",
   "execution_count": null,
   "metadata": {},
   "outputs": [],
   "source": [
    "# Function to compute gravitational force between two particles\n",
    "def gforce(particle1, particle2):\n",
    "    r = particle2[:3] - particle1[:3]  # Position components in parsecs\n",
    "    distance = np.linalg.norm(r)\n",
    "    if distance < softening:\n",
    "        return np.zeros(3)  # Avoid singularities\n",
    "    force_magnitude = G * (particle1[6] * particle2[6]) / (distance**2 + softening**2)\n",
    "    force = force_magnitude \n",
    "    return force"
   ]
  }
 ],
 "metadata": {
  "kernelspec": {
   "display_name": "base",
   "language": "python",
   "name": "python3"
  },
  "language_info": {
   "codemirror_mode": {
    "name": "ipython",
    "version": 3
   },
   "file_extension": ".py",
   "mimetype": "text/x-python",
   "name": "python",
   "nbconvert_exporter": "python",
   "pygments_lexer": "ipython3",
   "version": "3.10.8"
  }
 },
 "nbformat": 4,
 "nbformat_minor": 2
}
